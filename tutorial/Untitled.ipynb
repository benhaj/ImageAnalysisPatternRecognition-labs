{
 "cells": [
  {
   "cell_type": "code",
   "execution_count": null,
   "metadata": {},
   "outputs": [],
   "source": [
    "ZSBN_df = final_df[final_df.LocationName==\"ZSBN\"].copy()\n",
    "fig = go.Figure()\n",
    "fig.add_scatter(x=ZSBN_df.index, y=ZSBN_df.CO2)\n",
    "fig.add_vrect(x0=\"2017-10-22\", x1=\"2017-10-25\",fillcolor=\"red\", opacity=0.1)\n",
    "fig.add_vline(x=\"2017-10-24\",line_color=\"red\")\n",
    "fig.show()"
   ]
  },
  {
   "cell_type": "code",
   "execution_count": null,
   "metadata": {},
   "outputs": [],
   "source": [
    "## The choice of the sensors was based essencially on their altitude (they approximately have the same altitude)\n",
    "\n",
    "fig = go.Figure()\n",
    "fig.add_scatter(x=final_df[final_df.LocationName==\"ZUE\"].index,y=final_df[final_df.LocationName==\"ZUE\"].CO2,name=\"ZUE\")\n",
    "fig.add_scatter(x=final_df[final_df.LocationName==\"ZSTA\"].index,y=final_df[final_df.LocationName==\"ZSTA\"].CO2,name=\"ZSTA\")\n",
    "fig.add_scatter(x=ZSBN_df.index,y=ZSBN_df.CO2,name=\"ZSBN\")\n"
   ]
  },
  {
   "cell_type": "code",
   "execution_count": null,
   "metadata": {},
   "outputs": [],
   "source": [
    "from sklearn.linear_model import LinearRegression\n",
    "from sklearn.model_selection import TimeSeriesSplit\n",
    "from sklearn.metrics import mean_squared_error\n",
    "\n",
    "\n",
    "X = ZSBN_df[[\"temperature\",\"humidity\"]]\n",
    "y = ZSBN_df[[\"CO2\"]]\n",
    "fig = go.Figure()\n",
    "fig.add_scatter(x=ZSBN['timestamp'], y=ZSBN['CO2'], mode='lines', name=\"Measurements\")\n",
    "fig.add_scatter(x=ZSBN['timestamp'], y=ZSBN['prediction'], mode='lines', name=\"Prediction\")\n",
    "fig.update_xaxes(\n",
    "    dtick=24*60*60*1000\n",
    "    #,ticklabelmode='period'\n",
    ")\n",
    "fig.update_layout(\n",
    "    title='CO2 Level (ppm) in October 2017',\n",
    "    xaxis_title='Date',\n",
    "    yaxis_title='CO2 (ppm)',\n",
    "    hovermode='x unified'\n",
    ")\n",
    "fig.show()\n",
    "\n",
    "##CROSS_VALIDATION\n",
    "##Fama mochkla fel cross_validation lezem nthabet fiha\n",
    "K = 10\n",
    "tscv = TimeSeriesSplit(K)\n",
    "\n",
    "rmse = []\n",
    "scores = []\n",
    "\n",
    "cv_pred = []\n",
    "cv_measurements = []\n",
    "train_times=[]    \n",
    "test_times=[]\n",
    "for i, (train_index, test_index) in enumerate(tscv.split(X)):\n",
    "    X_train, X_test = X.iloc[train_index], X.iloc[test_index]\n",
    "    y_train, y_test = y.iloc[train_index], y.iloc[test_index]\n",
    "\n",
    "    reg = LinearRegression().fit(X_train,y_train)\n",
    "    y_pred = reg.predict(X_test)\n",
    "    \n",
    "    cv_pred.append(y_pred)\n",
    "    \n",
    "    cv_measurements.append(y_test)\n",
    "\n",
    "    scores.append( reg.score(X_test,y_test) )\n",
    "    rmse.append( np.sqrt(2 *mean_squared_error(y_test, y_pred)) )\n",
    "    ##train_times.append([X_train.reset_index()['timestamp'].to_list()[0],X_train.reset_index()['timestamp'].to_list()[-1]])\n",
    "    ##test_times.append([X_test.reset_index()['timestamp'].to_list()[0],X_test.reset_index()['timestamp'].to_list()[-1]])\n",
    "    train_times.append(X_train.reset_index()['timestamp'].to_list())\n",
    "    test_times.append(X_test.reset_index()['timestamp'].to_list())"
   ]
  }
 ],
 "metadata": {
  "kernelspec": {
   "display_name": "Python 3",
   "language": "python",
   "name": "python3"
  },
  "language_info": {
   "codemirror_mode": {
    "name": "ipython",
    "version": 3
   },
   "file_extension": ".py",
   "mimetype": "text/x-python",
   "name": "python",
   "nbconvert_exporter": "python",
   "pygments_lexer": "ipython3",
   "version": "3.7.4"
  }
 },
 "nbformat": 4,
 "nbformat_minor": 4
}
